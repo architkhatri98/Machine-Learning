{
  "cells": [
    {
      "metadata": {
        "_uuid": "8f2839f25d086af736a60e9eeb907d3b93b6e0e5",
        "_cell_guid": "b1076dfc-b9ad-4769-8c92-a6c4dae69d19",
        "trusted": true
      },
      "cell_type": "code",
      "source": "import warnings\nwarnings.filterwarnings(\"ignore\")\nimport numpy as np # linear algebra\nimport pandas as pd # data processing, CSV file I/O (e.g. pd.read_csv)\nimport matplotlib.pyplot as plt\nimport seaborn as sns\nimport os\nprint(os.listdir(\"../input\"))",
      "execution_count": null,
      "outputs": []
    },
    {
      "metadata": {
        "trusted": true,
        "_uuid": "91778c736e8ff0a077c5143e34958c9f0c1a94db"
      },
      "cell_type": "code",
      "source": "pd.read_csv('../input/gender_submission.csv')",
      "execution_count": null,
      "outputs": []
    },
    {
      "metadata": {
        "_cell_guid": "79c7e3d0-c299-4dcb-8224-4455121ee9b0",
        "_uuid": "d629ff2d2480ee46fbb7e2d37f6b5fab8052498a",
        "trusted": true
      },
      "cell_type": "code",
      "source": "train_df = pd.read_csv('../input/train.csv')\ntest_df = pd.read_csv('../input/test.csv')",
      "execution_count": null,
      "outputs": []
    },
    {
      "metadata": {
        "trusted": true,
        "_uuid": "0bc91a43c69510b02733d953cc14c2fc3b5f6934"
      },
      "cell_type": "code",
      "source": "train_df.head()",
      "execution_count": null,
      "outputs": []
    },
    {
      "metadata": {
        "trusted": true,
        "_uuid": "59d6bdf467478fabe7347531815483921edc2c3a"
      },
      "cell_type": "code",
      "source": "test_df.head()",
      "execution_count": null,
      "outputs": []
    },
    {
      "metadata": {
        "trusted": true,
        "_uuid": "2e842dd1a06b88cc579ba1b23f0596956ff0ceaf"
      },
      "cell_type": "code",
      "source": "train_df.info()",
      "execution_count": null,
      "outputs": []
    },
    {
      "metadata": {
        "trusted": true,
        "_uuid": "9dc0d1b0ad0077b40b25a235de872fc8293b047c"
      },
      "cell_type": "code",
      "source": "test_df.info()",
      "execution_count": null,
      "outputs": []
    },
    {
      "metadata": {
        "trusted": true,
        "_uuid": "be22e978ddd224dee9e2e98f10b75337d9ca7778"
      },
      "cell_type": "code",
      "source": "train_df.describe()",
      "execution_count": null,
      "outputs": []
    },
    {
      "metadata": {
        "trusted": true,
        "_uuid": "798f4733ed650ad324cffbcad6a2b55738c27996"
      },
      "cell_type": "code",
      "source": "train_df = train_df.drop('Cabin',1)\ntest_df = test_df.drop('Cabin',1)",
      "execution_count": null,
      "outputs": []
    },
    {
      "metadata": {
        "trusted": true,
        "_uuid": "2f3fd82c7f7844e87398db876427d09ec40da578"
      },
      "cell_type": "code",
      "source": "survived_ls = list(train_df['Survived'].values)\ntrain_df = train_df.drop('Survived',1)\ntrain_df['Survived'] = survived_ls\ntrain_df.head()",
      "execution_count": null,
      "outputs": []
    },
    {
      "metadata": {
        "trusted": true,
        "_uuid": "881622ad235e2ce87c959bdb09b6f0fbdb8fdef5"
      },
      "cell_type": "code",
      "source": "train_df['Age'].fillna((train_df['Age'].median()), inplace = True)\ntest_df['Age'].fillna((test_df['Age'].median()), inplace = True)\ntest_df['Fare'].fillna(test_df['Age'].median(), inplace = True)\n\n#Finding which indexes have missing values in 'Embarked' column and replacing them with mode\nprint(train_df['Embarked'][(train_df['Embarked'] != 'S') & (train_df['Embarked'] != 'C') & (train_df['Embarked'] != 'Q')])\ntrain_df['Embarked'].iloc[829] = 'S'\ntrain_df['Embarked'].iloc[61] = 'S'\n\n\"\"\"DIDN'T WORK BUT WHY?\ntrain_df['Embarked'].fillna(train_df['Embarked'].mode(), inplace = True)\ntest_df['Embarked'].fillna(test_df['Embarked'].mode(), inplace = True)\n\"\"\"",
      "execution_count": null,
      "outputs": []
    },
    {
      "metadata": {
        "trusted": true,
        "_uuid": "1d1c7bc94ad95e46e6ae4f0bb82fe56ec83853ba",
        "scrolled": false
      },
      "cell_type": "code",
      "source": "plt.figure(figsize = (10,15))\n\nplt.subplot(4,2,1)\nsns.distplot(train_df['Age'], bins = 20)\nplt.xlabel('Age')\n\nplt.subplot(4,2,2)\n_ = sns.countplot(train_df['SibSp'])\n\nplt.subplot(4,2,3)\n_ = sns.distplot(train_df['Fare'], bins = 50, kde = False)\nplt.xlabel('Fare')\n\nplt.subplot(4,2,4)\n_ = sns.countplot(train_df['Embarked'])\nplt.xlabel('Embarked')\n\nplt.subplot(4,2,5)\n_ = sns.countplot(train_df['Parch'])\n\nplt.subplot(4,2,6)\n_ = sns.countplot(train_df['Pclass'])\n\nplt.subplot(4,2,7)\n_ = sns.countplot(train_df['Sex'])\n\nplt.subplot(4,2,8)\n_ = sns.countplot(train_df['Survived'])",
      "execution_count": null,
      "outputs": []
    },
    {
      "metadata": {
        "trusted": true,
        "_uuid": "4e4bf64390239df98aa97d473a28ba352b4aa9f6"
      },
      "cell_type": "code",
      "source": "train_df = train_df.drop('Name', 1)\ntest_df = test_df.drop('Name', 1)\ntrain_df = train_df.drop('Ticket', 1)\ntest_df = test_df.drop('Ticket', 1)\ntrain_df = train_df.drop('PassengerId', 1)\npassengerId_ls_test = test_df['PassengerId'].values\ntest_df = test_df.drop('PassengerId', 1)",
      "execution_count": null,
      "outputs": []
    },
    {
      "metadata": {
        "trusted": true,
        "_uuid": "b017a5f238c0a439befa39907b63e9bf0e4a5a8f"
      },
      "cell_type": "code",
      "source": "train_df.info()",
      "execution_count": null,
      "outputs": []
    },
    {
      "metadata": {
        "trusted": true,
        "_uuid": "f1e5affed19855978254df1da3ec1e7228daf640"
      },
      "cell_type": "code",
      "source": "test_df.info()",
      "execution_count": null,
      "outputs": []
    },
    {
      "metadata": {
        "trusted": true,
        "_uuid": "471550374c0641fc125a01a207dcffaba6594cc0"
      },
      "cell_type": "code",
      "source": "train_df.head(20)",
      "execution_count": null,
      "outputs": []
    },
    {
      "metadata": {
        "trusted": true,
        "_uuid": "1aed46e0070ba35650c2c53648a47981d14149b1"
      },
      "cell_type": "code",
      "source": "from sklearn.preprocessing import LabelEncoder\nle = LabelEncoder()\ntrain_df['Embarked'] = le.fit_transform(train_df['Embarked'].values)\ntest_df['Embarked'] = le.fit_transform(test_df['Embarked'].values)\nle = LabelEncoder()\ntrain_df['Sex'] = le.fit_transform(train_df['Sex'].values)\ntest_df['Sex'] = le.fit_transform(test_df['Sex'].values)",
      "execution_count": null,
      "outputs": []
    },
    {
      "metadata": {
        "trusted": true,
        "_uuid": "a98e5d8df7deac5684611019682c2886211b16f2"
      },
      "cell_type": "code",
      "source": "train_df.head(2)",
      "execution_count": null,
      "outputs": []
    },
    {
      "metadata": {
        "trusted": true,
        "_uuid": "70f9728862059a760677e50b0fb88d1b01553c1e"
      },
      "cell_type": "code",
      "source": "X_train = train_df.iloc[:,:-1].values\ny_train = train_df.iloc[:,-1].values\nX_test = test_df.values",
      "execution_count": null,
      "outputs": []
    },
    {
      "metadata": {
        "trusted": true,
        "_uuid": "d8600f6fc2f10a460d9adab8282fb947aa6e71d0"
      },
      "cell_type": "code",
      "source": "from sklearn.preprocessing import OneHotEncoder\none_hot_encoder = OneHotEncoder(categorical_features = [6])\nX_train = one_hot_encoder.fit_transform(X_train).toarray()\none_hot_encoder = OneHotEncoder(categorical_features = [6])\nX_test = one_hot_encoder.fit_transform(X_test).toarray()",
      "execution_count": null,
      "outputs": []
    },
    {
      "metadata": {
        "trusted": true,
        "_uuid": "9a208503caacc5b6ae2e4473d962deb6d0e318fe"
      },
      "cell_type": "code",
      "source": "X_train[0]",
      "execution_count": null,
      "outputs": []
    },
    {
      "metadata": {
        "trusted": true,
        "_uuid": "a9dfab0415cbf337a8617f9e745263c0ac74dd39"
      },
      "cell_type": "code",
      "source": "from sklearn.preprocessing import StandardScaler\nscaler = StandardScaler()\nX_train = scaler.fit_transform(X_train)\nX_test = scaler.fit_transform(X_test)",
      "execution_count": null,
      "outputs": []
    },
    {
      "metadata": {
        "trusted": true,
        "_uuid": "dcc0ffb834121989254b0d969b30a75042b001fe"
      },
      "cell_type": "code",
      "source": "from sklearn.model_selection import train_test_split\nX_train1, X_val, y_train1, y_val = train_test_split(X_train, y_train, test_size = 0.25)",
      "execution_count": null,
      "outputs": []
    },
    {
      "metadata": {
        "trusted": true,
        "_uuid": "ab2568ff8165fe23c6672401d468d610d1877414"
      },
      "cell_type": "code",
      "source": "#Machine Learning\n\n#Logistic Regression\nfrom sklearn.metrics import confusion_matrix\nfrom sklearn.linear_model import LogisticRegression\nlogistic_reg = LogisticRegression()\nlogistic_reg.fit(X_train1, y_train1)\nlogistic_reg_pred = logistic_reg.predict(X_val)\nprint(\"Accuracy on training set: {}\".format(logistic_reg.score(X_train1, y_train1)))\nprint(\"Accuracy on validation set: {}\".format(logistic_reg.score(X_val, y_val)))\n\ncm = confusion_matrix(y_val, logistic_reg_pred)\nprint(cm)",
      "execution_count": null,
      "outputs": []
    },
    {
      "metadata": {
        "trusted": true,
        "_uuid": "e3ff30bf536c0ffa5c53491d7ac37f821de93f1d"
      },
      "cell_type": "code",
      "source": "#K-Nearest-Neighbors\nfrom sklearn.neighbors import KNeighborsClassifier\nknn = KNeighborsClassifier(n_neighbors = 6, metric='minkowski',p=2)\nknn.fit(X_train1, y_train1)\nknn_pred = knn.predict(X_val)\nprint(\"Number of neighbors = 6\")\nprint(\"Accuracy on training set: {}\".format(knn.score(X_train1, y_train1)))\nprint(\"Accuracy on validation set: {}\".format(knn.score(X_val, y_val)))\n\ncm = confusion_matrix(y_val, knn_pred)\nprint(cm)\nprint(\"-----------------------------------------------\")\n#------------------------------------------------------------------------------\n\nknn = KNeighborsClassifier(n_neighbors = 5, metric='minkowski',p=2)\nknn.fit(X_train1, y_train1)\nknn_pred = knn.predict(X_val)\nprint(\"Number of neighbors = 5\")\nprint(\"Accuracy on training set: {}\".format(knn.score(X_train1, y_train1)))\nprint(\"Accuracy on validation set: {}\".format(knn.score(X_val, y_val)))\n\ncm = confusion_matrix(y_val, knn_pred)\nprint(cm)\nprint(\"-----------------------------------------------\")\n#------------------------------------------------------------------------------\n\nknn = KNeighborsClassifier(n_neighbors = 4, metric='minkowski',p=2)\nknn.fit(X_train1, y_train1)\nknn_pred = knn.predict(X_val)\nprint(\"Number of neighbors = 4\")\nprint(\"Accuracy on training set: {}\".format(knn.score(X_train1, y_train1)))\nprint(\"Accuracy on validation set: {}\".format(knn.score(X_val, y_val)))\n\ncm = confusion_matrix(y_val, knn_pred)\nprint(cm)\nprint(\"-----------------------------------------------\")\n#------------------------------------------------------------------------------\n\nknn = KNeighborsClassifier(n_neighbors = 3, metric='minkowski',p=2)\nknn.fit(X_train1, y_train1)\nknn_pred = knn.predict(X_val)\nprint(\"Number of neighbors = 3\")\nprint(\"Accuracy on training set: {}\".format(knn.score(X_train1, y_train1)))\nprint(\"Accuracy on validation set: {}\".format(knn.score(X_val, y_val)))\n\ncm = confusion_matrix(y_val, knn_pred)\nprint(cm)",
      "execution_count": null,
      "outputs": []
    },
    {
      "metadata": {
        "trusted": true,
        "_uuid": "6bbbe6602f7e067745439c6cd38279c0860f378f"
      },
      "cell_type": "code",
      "source": "#Naive Bayes\nfrom sklearn.naive_bayes import GaussianNB\ngaussianNB = GaussianNB()\ngaussianNB.fit(X_train1, y_train1)\ngaussianNB_pred = gaussianNB.predict(X_val)\nprint(\"Accuracy on train set: {}\".format(gaussianNB.score(X_train1, y_train1)))\nprint(\"Accuracy on test set: {}\".format(gaussianNB.score(X_val, y_val)))\n\ncm = confusion_matrix(y_val, gaussianNB_pred)\nprint(cm)",
      "execution_count": null,
      "outputs": []
    },
    {
      "metadata": {
        "trusted": true,
        "_uuid": "178ea8b732f0ff038bf0a940086a545aa446bf9c"
      },
      "cell_type": "code",
      "source": "#SVM\nfrom sklearn.svm import SVC\nsvc = SVC()\nsvc.fit(X_train1, y_train1)\nsvc_pred = svc.predict(X_val)\nprint(\"C = 1.0 (Default)\")\nprint(\"Accuracy on train set: {}\".format(svc.score(X_train1, y_train1)))\nprint(\"Accuracy on test set: {}\".format(svc.score(X_val, y_val)))\ncm = confusion_matrix(y_val, svc_pred)\nprint(cm)\nprint(\"-----------------------------------------------\")\n\nsvc = SVC(C = 1.5)\nsvc.fit(X_train1, y_train1)\nsvc_pred = svc.predict(X_val)\nprint(\"C = 1.5\")\nprint(\"Accuracy on train set: {}\".format(svc.score(X_train1, y_train1)))\nprint(\"Accuracy on test set: {}\".format(svc.score(X_val, y_val)))\ncm = confusion_matrix(y_val, svc_pred)\nprint(cm)\nprint(\"-----------------------------------------------\")\n\nsvc = SVC(C = 2)\nsvc.fit(X_train1, y_train1)\nsvc_pred = svc.predict(X_val)\nprint(\"C = 2\")\nprint(\"Accuracy on train set: {}\".format(svc.score(X_train1, y_train1)))\nprint(\"Accuracy on test set: {}\".format(svc.score(X_val, y_val)))\ncm = confusion_matrix(y_val, svc_pred)\nprint(cm)\nprint(\"-----------------------------------------------\")\n\nsvc = SVC(C = 0.5)\nsvc.fit(X_train1, y_train1)\nsvc_pred = svc.predict(X_val)\nprint(\"C = 0.5\")\nprint(\"Accuracy on train set: {}\".format(svc.score(X_train1, y_train1)))\nprint(\"Accuracy on test set: {}\".format(svc.score(X_val, y_val)))\ncm = confusion_matrix(y_val, svc_pred)\nprint(cm)\nprint(\"-----------------------------------------------\")\n\nsvc = SVC(C = 5)\nsvc.fit(X_train1, y_train1)\nsvc_pred = svc.predict(X_val)\nprint(\"C = 5\")\nprint(\"Accuracy on train set: {}\".format(svc.score(X_train1, y_train1)))\nprint(\"Accuracy on test set: {}\".format(svc.score(X_val, y_val)))\ncm = confusion_matrix(y_val, svc_pred)\nprint(cm)\nprint(\"-----------------------------------------------\")\n\nsvc = SVC(C = 10)\nsvc.fit(X_train1, y_train1)\nsvc_pred = svc.predict(X_val)\nprint(\"C = 10 (Best)\")\nprint(\"Accuracy on train set: {}\".format(svc.score(X_train1, y_train1)))\nprint(\"Accuracy on test set: {}\".format(svc.score(X_val, y_val)))\ncm = confusion_matrix(y_val, svc_pred)\nprint(cm)\nprint(\"-----------------------------------------------\")\n\nsvc = SVC(C = 20)\nsvc.fit(X_train1, y_train1)\nsvc_pred = svc.predict(X_val)\nprint(\"C = 20\")\nprint(\"Accuracy on train set: {}\".format(svc.score(X_train1, y_train1)))\nprint(\"Accuracy on test set: {}\".format(svc.score(X_val, y_val)))\ncm = confusion_matrix(y_val, svc_pred)\nprint(cm)\nprint(\"-----------------------------------------------\")\n\nsvc = SVC(C = 15)\nsvc.fit(X_train1, y_train1)\nsvc_pred = svc.predict(X_val)\nprint(\"C = 15\")\nprint(\"Accuracy on train set: {}\".format(svc.score(X_train1, y_train1)))\nprint(\"Accuracy on test set: {}\".format(svc.score(X_val, y_val)))\ncm = confusion_matrix(y_val, svc_pred)\nprint(cm)\nprint(\"-----------------------------------------------\")\n\nsvc = SVC(C = 7.5)\nsvc.fit(X_train1, y_train1)\nsvc_pred = svc.predict(X_val)\nprint(\"C = 7.5\")\nprint(\"Accuracy on train set: {}\".format(svc.score(X_train1, y_train1)))\nprint(\"Accuracy on test set: {}\".format(svc.score(X_val, y_val)))\ncm = confusion_matrix(y_val, svc_pred)\nprint(cm)",
      "execution_count": null,
      "outputs": []
    },
    {
      "metadata": {
        "trusted": true,
        "_uuid": "6f9eed125bd569460035e73d0e3d0d262dc9a654"
      },
      "cell_type": "code",
      "source": "#Random Forest Classifier\nfrom sklearn.ensemble import RandomForestClassifier\nrf_classifier = RandomForestClassifier(n_estimators=2000, random_state=42)\nrf_classifier.fit(X_train1, y_train1)\nrf_classifier_pred = rf_classifier.predict(X_val)\nprint(rf_classifier.score(X_train1, y_train1))\nprint(rf_classifier.score(X_val, y_val))\ncm = confusion_matrix(y_val, rf_classifier_pred)\nprint(cm)",
      "execution_count": null,
      "outputs": []
    },
    {
      "metadata": {
        "trusted": true,
        "scrolled": false,
        "_uuid": "3b2ca6ddd55575c30826858ad3b5ee877ab4ec93"
      },
      "cell_type": "code",
      "source": "#DEEP LEARNING\nimport keras\nfrom keras.models import Sequential\nfrom keras.layers import Dense\nfrom keras.layers.normalization import BatchNormalization\n\n# Initialising the ANN\nann_classifier = Sequential()\n\n# Adding the input layer and the first hidden layer\nann_classifier.add(Dense(units = 7, kernel_initializer = 'uniform', activation = 'relu', input_dim = X_train.shape[1]))\n\n# Adding the second hidden layer\nann_classifier.add(Dense(units = 16, kernel_initializer = 'uniform', activation = 'relu'))\nann_classifier.add(Dense(units = 16, kernel_initializer = 'uniform', activation = 'relu'))\nann_classifier.add(BatchNormalization(axis = 1))\nann_classifier.add(Dense(units = 32, kernel_initializer = 'uniform', activation = 'relu'))\n# Adding the output layer\nann_classifier.add(Dense(units = 1, kernel_initializer = 'uniform', activation = 'sigmoid'))\n\n# Compiling the ANN\nann_classifier.compile(optimizer = 'adam', loss = 'binary_crossentropy', metrics = ['accuracy'])\n\n# Fitting the ANN to the Training set\n#ann_classifier.fit(X_train, y_train, batch_size = 10, epochs = 30, validation_split = 0.3)\nann_classifier.fit(X_train, y_train, batch_size = 10, epochs = 30)",
      "execution_count": null,
      "outputs": []
    },
    {
      "metadata": {
        "trusted": true,
        "_uuid": "15bb217678ea68e5ae93e5d246c96128a6981cea"
      },
      "cell_type": "code",
      "source": "#Making predictions for submission\n#Best performers are SVC, KNN, Random Forest, DEEP LEARNING\nsvc = SVC(C=10)\nsvc.fit(X_train, y_train)\nsvc_predict = svc.predict(X_test)\nsvc_df = pd.DataFrame(columns = ['PassengerId', 'Survived'])\nsvc_df['PassengerId'] = passengerId_ls_test\nsvc_df['Survived'] = svc_predict\nsvc_df.to_csv('submission_svc.csv', index = False)\n\nknn = KNeighborsClassifier(n_neighbors = 4, metric='minkowski',p=2)\nknn.fit(X_train, y_train)\nknn_predict = knn.predict(X_test)\nknn_df = pd.DataFrame(columns = ['PassengerId', 'Survived'])\nknn_df['PassengerId'] = passengerId_ls_test\nknn_df['Survived'] = knn_predict\nknn_df.to_csv('submission_knn.csv', index = False)\n\nrf_classifier = RandomForestClassifier(n_estimators = 2000, random_state = 42)\nrf_classifier.fit(X_train, y_train)\nrf_predict = rf_classifier.predict(X_test)\nrf_df = pd.DataFrame(columns = ['PassengerId', 'Survived'])\nrf_df['PassengerId'] = passengerId_ls_test\nrf_df['Survived'] = rf_predict\nrf_df.to_csv('submission_rf.csv', index = False)\n\nann_predict = ann_classifier.predict(X_test)\nann_predict = np.array(ann_predict > 0.5)\nann_predict_ls = []\nfor i in ann_predict:\n    if i == True:\n        ann_predict_ls.append(1)\n    else:\n        ann_predict_ls.append(0)\n        \nann_df = pd.DataFrame(columns = ['PassengerId', 'Survived'])\nann_df['PassengerId'] = passengerId_ls_test\nann_df['Survived'] = ann_predict_ls\nann_df.to_csv('submission_ann.csv', index = False)",
      "execution_count": null,
      "outputs": []
    },
    {
      "metadata": {
        "trusted": true,
        "_uuid": "5cb32e946fe8e152fe68382fbf27a6c2aede8e97"
      },
      "cell_type": "code",
      "source": "svc_df.head(20)",
      "execution_count": null,
      "outputs": []
    },
    {
      "metadata": {
        "trusted": true,
        "_uuid": "9374e97137b1f25965e8d8eda0b2a0086874eda5"
      },
      "cell_type": "code",
      "source": "knn_df.head(20)",
      "execution_count": null,
      "outputs": []
    },
    {
      "metadata": {
        "trusted": true,
        "_uuid": "4b4754afe35ceca63a627fd3a5140bc2afcf7dae"
      },
      "cell_type": "code",
      "source": "rf_df.head(20)",
      "execution_count": null,
      "outputs": []
    },
    {
      "metadata": {
        "trusted": true,
        "_uuid": "7b112b0cd772b0f84e25214df89c0179ba2a98c2"
      },
      "cell_type": "code",
      "source": "ann_df.head(20)",
      "execution_count": null,
      "outputs": []
    }
  ],
  "metadata": {
    "kernelspec": {
      "display_name": "Python 3",
      "language": "python",
      "name": "python3"
    },
    "language_info": {
      "name": "python",
      "version": "3.6.6",
      "mimetype": "text/x-python",
      "codemirror_mode": {
        "name": "ipython",
        "version": 3
      },
      "pygments_lexer": "ipython3",
      "nbconvert_exporter": "python",
      "file_extension": ".py"
    }
  },
  "nbformat": 4,
  "nbformat_minor": 1
}