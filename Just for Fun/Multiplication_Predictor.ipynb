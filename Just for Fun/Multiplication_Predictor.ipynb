{
 "cells": [
  {
   "cell_type": "code",
   "execution_count": 1,
   "metadata": {},
   "outputs": [
    {
     "data": {
      "text/plain": [
       "'\\n    This is a funny Machine Learning model done to predict answer of two random numbers after training\\n    a RandomForestRegressor on a very consistent Multiplication Table of two numbers from range (0,1000).\\n    Eg. 25*40 => prediction\\n        459*22 => prediction\\n'"
      ]
     },
     "execution_count": 1,
     "metadata": {},
     "output_type": "execute_result"
    }
   ],
   "source": [
    "\"\"\"\n",
    "    This is a funny Machine Learning model done to predict answer of two random numbers after training\n",
    "    a RandomForestRegressor on a very consistent Multiplication Table of two numbers from range (0,1000).\n",
    "    Eg. 25*40 => prediction\n",
    "        459*22 => prediction\n",
    "\"\"\""
   ]
  },
  {
   "cell_type": "code",
   "execution_count": 2,
   "metadata": {},
   "outputs": [
    {
     "name": "stderr",
     "output_type": "stream",
     "text": [
      "/home/architkhatri/anaconda3/lib/python3.6/importlib/_bootstrap.py:219: RuntimeWarning: numpy.dtype size changed, may indicate binary incompatibility. Expected 96, got 88\n",
      "  return f(*args, **kwds)\n",
      "/home/architkhatri/anaconda3/lib/python3.6/importlib/_bootstrap.py:219: RuntimeWarning: numpy.dtype size changed, may indicate binary incompatibility. Expected 96, got 88\n",
      "  return f(*args, **kwds)\n"
     ]
    }
   ],
   "source": [
    "import pandas as pd\n",
    "import numpy as np"
   ]
  },
  {
   "cell_type": "code",
   "execution_count": 3,
   "metadata": {},
   "outputs": [],
   "source": [
    "#Creating a dictionary to make a multiplication table\n",
    "table = {'x': [], 'y':[], 'ans': []}\n",
    "\n",
    "#This table has range from (0-1000) for both 'X' and 'y' and 'ans' is the product of X*Y.\n",
    "for i in range(0,1000):\n",
    "    for j in range(0,1000):\n",
    "        result = i * j\n",
    "        table['x'].append(i)\n",
    "        table['y'].append(j)\n",
    "        table['ans'].append(result)\n",
    "        "
   ]
  },
  {
   "cell_type": "code",
   "execution_count": 4,
   "metadata": {},
   "outputs": [
    {
     "data": {
      "text/html": [
       "<div>\n",
       "<style scoped>\n",
       "    .dataframe tbody tr th:only-of-type {\n",
       "        vertical-align: middle;\n",
       "    }\n",
       "\n",
       "    .dataframe tbody tr th {\n",
       "        vertical-align: top;\n",
       "    }\n",
       "\n",
       "    .dataframe thead th {\n",
       "        text-align: right;\n",
       "    }\n",
       "</style>\n",
       "<table border=\"1\" class=\"dataframe\">\n",
       "  <thead>\n",
       "    <tr style=\"text-align: right;\">\n",
       "      <th></th>\n",
       "      <th>x</th>\n",
       "      <th>y</th>\n",
       "      <th>ans</th>\n",
       "    </tr>\n",
       "  </thead>\n",
       "  <tbody>\n",
       "    <tr>\n",
       "      <th>9000</th>\n",
       "      <td>9</td>\n",
       "      <td>0</td>\n",
       "      <td>0</td>\n",
       "    </tr>\n",
       "    <tr>\n",
       "      <th>9001</th>\n",
       "      <td>9</td>\n",
       "      <td>1</td>\n",
       "      <td>9</td>\n",
       "    </tr>\n",
       "    <tr>\n",
       "      <th>9002</th>\n",
       "      <td>9</td>\n",
       "      <td>2</td>\n",
       "      <td>18</td>\n",
       "    </tr>\n",
       "    <tr>\n",
       "      <th>9003</th>\n",
       "      <td>9</td>\n",
       "      <td>3</td>\n",
       "      <td>27</td>\n",
       "    </tr>\n",
       "    <tr>\n",
       "      <th>9004</th>\n",
       "      <td>9</td>\n",
       "      <td>4</td>\n",
       "      <td>36</td>\n",
       "    </tr>\n",
       "    <tr>\n",
       "      <th>9005</th>\n",
       "      <td>9</td>\n",
       "      <td>5</td>\n",
       "      <td>45</td>\n",
       "    </tr>\n",
       "    <tr>\n",
       "      <th>9006</th>\n",
       "      <td>9</td>\n",
       "      <td>6</td>\n",
       "      <td>54</td>\n",
       "    </tr>\n",
       "    <tr>\n",
       "      <th>9007</th>\n",
       "      <td>9</td>\n",
       "      <td>7</td>\n",
       "      <td>63</td>\n",
       "    </tr>\n",
       "    <tr>\n",
       "      <th>9008</th>\n",
       "      <td>9</td>\n",
       "      <td>8</td>\n",
       "      <td>72</td>\n",
       "    </tr>\n",
       "    <tr>\n",
       "      <th>9009</th>\n",
       "      <td>9</td>\n",
       "      <td>9</td>\n",
       "      <td>81</td>\n",
       "    </tr>\n",
       "  </tbody>\n",
       "</table>\n",
       "</div>"
      ],
      "text/plain": [
       "      x  y  ans\n",
       "9000  9  0    0\n",
       "9001  9  1    9\n",
       "9002  9  2   18\n",
       "9003  9  3   27\n",
       "9004  9  4   36\n",
       "9005  9  5   45\n",
       "9006  9  6   54\n",
       "9007  9  7   63\n",
       "9008  9  8   72\n",
       "9009  9  9   81"
      ]
     },
     "execution_count": 4,
     "metadata": {},
     "output_type": "execute_result"
    }
   ],
   "source": [
    "#Creating a dataframe from the above dictionary\n",
    "df = pd.DataFrame(table)\n",
    "\n",
    "#Looking at a chunk of dataframe when x == 9.\n",
    "df[df['x'] == 9].head(10)"
   ]
  },
  {
   "cell_type": "code",
   "execution_count": 5,
   "metadata": {},
   "outputs": [],
   "source": [
    "#Splitting the Independent and Dependent variables\n",
    "X = df.iloc[:,:-1].values\n",
    "y = df.iloc[:,[-1]]"
   ]
  },
  {
   "cell_type": "code",
   "execution_count": 6,
   "metadata": {},
   "outputs": [
    {
     "name": "stderr",
     "output_type": "stream",
     "text": [
      "/home/architkhatri/anaconda3/lib/python3.6/site-packages/sklearn/utils/validation.py:475: DataConversionWarning: Data with input dtype int64 was converted to float64 by StandardScaler.\n",
      "  warnings.warn(msg, DataConversionWarning)\n"
     ]
    }
   ],
   "source": [
    "#Scaling is required in this case because the values lie in the range (0,1000)\n",
    "from sklearn.preprocessing import StandardScaler\n",
    "sc_X = StandardScaler()\n",
    "sc_y = StandardScaler()\n",
    "X = sc_X.fit_transform(X)\n",
    "y = sc_y.fit_transform(y)"
   ]
  },
  {
   "cell_type": "code",
   "execution_count": 7,
   "metadata": {},
   "outputs": [],
   "source": [
    "#Creating train and test data\n",
    "from sklearn.model_selection import train_test_split\n",
    "X_train, X_test, y_train, y_test = train_test_split(X,y,test_size = 0.1, random_state = 42)"
   ]
  },
  {
   "cell_type": "code",
   "execution_count": 8,
   "metadata": {},
   "outputs": [
    {
     "name": "stderr",
     "output_type": "stream",
     "text": [
      "/home/architkhatri/anaconda3/lib/python3.6/site-packages/sklearn/ensemble/weight_boosting.py:29: DeprecationWarning: numpy.core.umath_tests is an internal NumPy module and should not be imported. It will be removed in a future NumPy release.\n",
      "  from numpy.core.umath_tests import inner1d\n",
      "/home/architkhatri/.local/lib/python3.6/site-packages/ipykernel_launcher.py:5: DataConversionWarning: A column-vector y was passed when a 1d array was expected. Please change the shape of y to (n_samples,), for example using ravel().\n",
      "  \"\"\"\n"
     ]
    },
    {
     "data": {
      "text/plain": [
       "RandomForestRegressor(bootstrap=True, criterion='mse', max_depth=None,\n",
       "           max_features='auto', max_leaf_nodes=None,\n",
       "           min_impurity_decrease=0.0, min_impurity_split=None,\n",
       "           min_samples_leaf=1, min_samples_split=2,\n",
       "           min_weight_fraction_leaf=0.0, n_estimators=50, n_jobs=-1,\n",
       "           oob_score=False, random_state=42, verbose=0, warm_start=False)"
      ]
     },
     "execution_count": 8,
     "metadata": {},
     "output_type": "execute_result"
    }
   ],
   "source": [
    "#Using RandomForestRegressor to fit the model. The full dataset has been used for training\n",
    "#because of the consistency of the data.\n",
    "from sklearn.ensemble import RandomForestRegressor\n",
    "regressor = RandomForestRegressor(n_estimators = 50, n_jobs = -1, random_state = 42)\n",
    "regressor.fit(X, y)"
   ]
  },
  {
   "cell_type": "code",
   "execution_count": 9,
   "metadata": {},
   "outputs": [],
   "source": [
    "def predict_value_scaled(X):\n",
    "    \"\"\"\n",
    "    Function to predict on already scaled X values.\n",
    "    \"\"\"\n",
    "    X = np.array(X).reshape(1,-1)\n",
    "    prediction = regressor.predict(X)\n",
    "    prediction = sc_y.inverse_transform(prediction)\n",
    "    return prediction"
   ]
  },
  {
   "cell_type": "code",
   "execution_count": 10,
   "metadata": {},
   "outputs": [],
   "source": [
    "def predict_value(X):\n",
    "    \"\"\"\n",
    "    Function to predict on any values of X where X is a list of 2 variables eg. [20,50]\n",
    "    \"\"\"\n",
    "    X = np.array(X).reshape(1,-1)\n",
    "    X = sc_X.transform(X)\n",
    "    prediction = regressor.predict(X)\n",
    "    prediction = sc_y.inverse_transform(prediction)\n",
    "    return prediction"
   ]
  },
  {
   "cell_type": "code",
   "execution_count": 11,
   "metadata": {},
   "outputs": [],
   "source": [
    "def inverse_transform_y(pred):\n",
    "    \"\"\"\n",
    "    Function to inverse transform (predict the value after reversing the scaling).\n",
    "    \"\"\"\n",
    "    pred = sc_y.inverse_transform(pred)\n",
    "    return pred"
   ]
  },
  {
   "cell_type": "code",
   "execution_count": 12,
   "metadata": {},
   "outputs": [],
   "source": [
    "def inverse_transform_x(X):\n",
    "    \"\"\"\n",
    "    Function to show the inverse transformed X values (the value after reversing the scaling).\n",
    "    \"\"\"\n",
    "    X = X.reshape(1,-1)\n",
    "    X = sc_X.inverse_transform(X)\n",
    "    return X"
   ]
  },
  {
   "cell_type": "code",
   "execution_count": 13,
   "metadata": {},
   "outputs": [
    {
     "name": "stdout",
     "output_type": "stream",
     "text": [
      "prediction: [227969.28]  actual: [227997.], multiplication : [[987. 231.]]\n",
      "prediction: [75343.406]  actual: [75366.], multiplication : [[ 79. 954.]]\n",
      "prediction: [73699.3]  actual: [73710.], multiplication : [[567. 130.]]\n",
      "prediction: [445423.46]  actual: [445500.], multiplication : [[500. 891.]]\n",
      "prediction: [21943.45722222]  actual: [21945.], multiplication : [[ 55. 399.]]\n",
      "prediction: [6624.60315224]  actual: [6615.], multiplication : [[135.  49.]]\n",
      "prediction: [277097.14]  actual: [277074.], multiplication : [[733. 378.]]\n",
      "prediction: [41699.9577619]  actual: [41724.], multiplication : [[732.  57.]]\n",
      "prediction: [16982.11775325]  actual: [16983.], multiplication : [[ 51. 333.]]\n",
      "prediction: [350167.66]  actual: [350149.], multiplication : [[731. 479.]]\n",
      "prediction: [302388.26]  actual: [302442.], multiplication : [[399. 758.]]\n",
      "prediction: [159109.299]  actual: [159197.], multiplication : [[401. 397.]]\n",
      "prediction: [414638.52]  actual: [414675.], multiplication : [[855. 485.]]\n",
      "prediction: [758524.02833333]  actual: [758472.], multiplication : [[858. 884.]]\n",
      "prediction: [124206.33]  actual: [124241.], multiplication : [[503. 247.]]\n",
      "prediction: [640225.01333333]  actual: [640224.], multiplication : [[864. 741.]]\n",
      "prediction: [1120.89637202]  actual: [1120.], multiplication : [[35. 32.]]\n",
      "prediction: [699456.88]  actual: [699485.], multiplication : [[995. 703.]]\n",
      "prediction: [286143.52]  actual: [286136.], multiplication : [[376. 761.]]\n",
      "prediction: [286266.61166667]  actual: [286283.], multiplication : [[811. 353.]]\n",
      "\n",
      "Accuracy of the predictor: 0.9999999419754232\n"
     ]
    }
   ],
   "source": [
    "\"\"\"   Checking the results of 20 test cases.   \"\"\"\n",
    "\n",
    "for i in range(20):\n",
    "    print(\"prediction: {}  actual: {}, multiplication : {}\".format(predict_value_scaled(X_test[i]),\n",
    "                                                                    inverse_transform_y(y_test[i]),\n",
    "                                                                    inverse_transform_x(X_test[i])))\n",
    "    \n",
    "print(\"\\nAccuracy of the predictor: \" + str(regressor.score(X_test, y_test)))"
   ]
  },
  {
   "cell_type": "code",
   "execution_count": 14,
   "metadata": {},
   "outputs": [
    {
     "name": "stderr",
     "output_type": "stream",
     "text": [
      "/home/architkhatri/anaconda3/lib/python3.6/site-packages/sklearn/utils/validation.py:475: DataConversionWarning: Data with input dtype int64 was converted to float64 by StandardScaler.\n",
      "  warnings.warn(msg, DataConversionWarning)\n"
     ]
    },
    {
     "data": {
      "text/plain": [
       "array([635.51109209])"
      ]
     },
     "execution_count": 14,
     "metadata": {},
     "output_type": "execute_result"
    }
   ],
   "source": [
    "predict_value([25,25])"
   ]
  }
 ],
 "metadata": {
  "kernelspec": {
   "display_name": "Python 3",
   "language": "python",
   "name": "python3"
  },
  "language_info": {
   "codemirror_mode": {
    "name": "ipython",
    "version": 3
   },
   "file_extension": ".py",
   "mimetype": "text/x-python",
   "name": "python",
   "nbconvert_exporter": "python",
   "pygments_lexer": "ipython3",
   "version": "3.6.6"
  }
 },
 "nbformat": 4,
 "nbformat_minor": 2
}
