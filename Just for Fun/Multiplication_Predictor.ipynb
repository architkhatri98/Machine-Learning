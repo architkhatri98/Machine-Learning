{
 "cells": [
  {
   "cell_type": "code",
   "execution_count": null,
   "metadata": {},
   "outputs": [],
   "source": [
    "\"\"\"\n",
    "    This is a funny Machine Learning model done to predict answer of two random numbers after training\n",
    "    a RandomForestRegressor on a very consistent Multiplication Table of two numbers from range (0,1000).\n",
    "    Eg. 25*40 => prediction\n",
    "        459*22 => prediction\n",
    "\"\"\""
   ]
  },
  {
   "cell_type": "code",
   "execution_count": null,
   "metadata": {},
   "outputs": [],
   "source": [
    "import pandas as pd\n",
    "import numpy as np"
   ]
  },
  {
   "cell_type": "code",
   "execution_count": null,
   "metadata": {},
   "outputs": [],
   "source": [
    "#Creating a dictionary to make a multiplication table\n",
    "table = {'x': [], 'y':[], 'ans': []}\n",
    "\n",
    "#This table has range from (0-1000) for both 'X' and 'y' and 'ans' is the product of X*Y.\n",
    "for i in range(0,1000):\n",
    "    for j in range(0,1000):\n",
    "        result = i * j\n",
    "        table['x'].append(i)\n",
    "        table['y'].append(j)\n",
    "        table['ans'].append(result)\n",
    "        "
   ]
  },
  {
   "cell_type": "code",
   "execution_count": null,
   "metadata": {},
   "outputs": [],
   "source": [
    "#Creating a dataframe from the above dictionary\n",
    "df = pd.DataFrame(table)\n",
    "\n",
    "#Looking at a chunk of dataframe when x == 9.\n",
    "df[df['x'] == 9].head(10)"
   ]
  },
  {
   "cell_type": "code",
   "execution_count": null,
   "metadata": {},
   "outputs": [],
   "source": [
    "#Splitting the Independent and Dependent variables\n",
    "X = df.iloc[:,:-1].values\n",
    "y = df.iloc[:,[-1]]"
   ]
  },
  {
   "cell_type": "code",
   "execution_count": null,
   "metadata": {},
   "outputs": [],
   "source": [
    "#Scaling is required in this case because the values lie in the range (0,1000)\n",
    "from sklearn.preprocessing import StandardScaler\n",
    "sc_X = StandardScaler()\n",
    "sc_y = StandardScaler()\n",
    "X = sc_X.fit_transform(X)\n",
    "y = sc_y.fit_transform(y)"
   ]
  },
  {
   "cell_type": "code",
   "execution_count": null,
   "metadata": {},
   "outputs": [],
   "source": [
    "#Creating train and test data\n",
    "from sklearn.model_selection import train_test_split\n",
    "X_train, X_test, y_train, y_test = train_test_split(X,y,test_size = 0.1, random_state = 42)"
   ]
  },
  {
   "cell_type": "code",
   "execution_count": null,
   "metadata": {},
   "outputs": [],
   "source": [
    "#Using RandomForestRegressor to fit the model. The full dataset has been used for training\n",
    "#because of the consistency of the data.\n",
    "from sklearn.ensemble import RandomForestRegressor\n",
    "regressor = RandomForestRegressor(n_estimators = 50, n_jobs = -1, random_state = 42)\n",
    "regressor.fit(X, y)"
   ]
  },
  {
   "cell_type": "code",
   "execution_count": null,
   "metadata": {},
   "outputs": [],
   "source": [
    "def predict_value_scaled(X):\n",
    "    \"\"\"\n",
    "    Function to predict on already scaled X values.\n",
    "    \"\"\"\n",
    "    X = np.array(X).reshape(1,-1)\n",
    "    prediction = regressor.predict(X)\n",
    "    prediction = sc_y.inverse_transform(prediction)\n",
    "    return prediction"
   ]
  },
  {
   "cell_type": "code",
   "execution_count": null,
   "metadata": {},
   "outputs": [],
   "source": [
    "def predict_value(X):\n",
    "    \"\"\"\n",
    "    Function to predict on any values of X where X is a list of 2 variables eg. [20,50]\n",
    "    \"\"\"\n",
    "    X = np.array(X).reshape(1,-1)\n",
    "    X = sc_X.transform(X)\n",
    "    prediction = regressor.predict(X)\n",
    "    prediction = sc_y.inverse_transform(prediction)\n",
    "    return prediction"
   ]
  },
  {
   "cell_type": "code",
   "execution_count": null,
   "metadata": {},
   "outputs": [],
   "source": [
    "def inverse_transform_y(pred):\n",
    "    \"\"\"\n",
    "    Function to inverse transform (predict the value after reversing the scaling).\n",
    "    \"\"\"\n",
    "    pred = sc_y.inverse_transform(pred)\n",
    "    return pred"
   ]
  },
  {
   "cell_type": "code",
   "execution_count": null,
   "metadata": {},
   "outputs": [],
   "source": [
    "def inverse_transform_x(X):\n",
    "    \"\"\"\n",
    "    Function to show the inverse transformed X values (the value after reversing the scaling).\n",
    "    \"\"\"\n",
    "    X = X.reshape(1,-1)\n",
    "    X = sc_X.inverse_transform(X)\n",
    "    return X"
   ]
  },
  {
   "cell_type": "code",
   "execution_count": null,
   "metadata": {},
   "outputs": [],
   "source": [
    "\"\"\"   Checking the results of 20 test cases.   \"\"\"\n",
    "\n",
    "for i in range(20):\n",
    "    print(\"prediction: {}  actual: {}, multiplication : {}\".format(predict_value_scaled(X_test[i]),\n",
    "                                                                    inverse_transform_y(y_test[i]),\n",
    "                                                                    inverse_transform_x(X_test[i])))\n",
    "    \n",
    "print(\"\\nAccuracy of the predictor: \" + str(regressor.score(X_test, y_test)))"
   ]
  },
  {
   "cell_type": "code",
   "execution_count": null,
   "metadata": {},
   "outputs": [],
   "source": [
    "predict_value([25,25])"
   ]
  }
 ],
 "metadata": {
  "kernelspec": {
   "display_name": "Python 3",
   "language": "python",
   "name": "python3"
  },
  "language_info": {
   "codemirror_mode": {
    "name": "ipython",
    "version": 3
   },
   "file_extension": ".py",
   "mimetype": "text/x-python",
   "name": "python",
   "nbconvert_exporter": "python",
   "pygments_lexer": "ipython3",
   "version": "3.6.6"
  }
 },
 "nbformat": 4,
 "nbformat_minor": 2
}
